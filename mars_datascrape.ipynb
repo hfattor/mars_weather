{
 "cells": [
  {
   "cell_type": "markdown",
   "metadata": {},
   "source": [
    "# Mars Weather Datascrape"
   ]
  },
  {
   "cell_type": "code",
   "execution_count": 1,
   "metadata": {},
   "outputs": [],
   "source": [
    "# Import relevant libraries\n",
    "from splinter import Browser\n",
    "from selenium.webdriver.chrome.service import Service\n",
    "from bs4 import BeautifulSoup\n",
    "import matplotlib.pyplot as plt\n",
    "import pandas as pd"
   ]
  },
  {
   "cell_type": "code",
   "execution_count": 2,
   "metadata": {
    "scrolled": true
   },
   "outputs": [],
   "source": [
    "# Launch the browser\n",
    "my_service = Service(executable_path=\"C:\\\\Users\\\\hfatt\\\\Downloads\\\\chromedriver\\\\chromedriver.exe\")\n",
    "browser = Browser('chrome', service=my_service)"
   ]
  },
  {
   "cell_type": "markdown",
   "metadata": {},
   "source": [
    "## Scrape New Weather Data from Curiosity"
   ]
  },
  {
   "cell_type": "code",
   "execution_count": 3,
   "metadata": {},
   "outputs": [],
   "source": [
    "# Visit the Mars news site: \n",
    "\n",
    "url = 'https://mars.nasa.gov/msl/weather/'\n",
    "browser.visit(url)"
   ]
  },
  {
   "cell_type": "code",
   "execution_count": 4,
   "metadata": {},
   "outputs": [],
   "source": [
    "# Create a Beautiful Soup object\n",
    "# Parse the website\n",
    "html = browser.html\n",
    "html_soup = BeautifulSoup(html, 'html.parser')"
   ]
  },
  {
   "cell_type": "code",
   "execution_count": 5,
   "metadata": {},
   "outputs": [
    {
     "name": "stdout",
     "output_type": "stream",
     "text": [
      "[<tbody><tr id=\"weather_top\">\n",
      "</tr><tr><th class=\"sol\" scope=\"row\">March 8, 2023</th><th class=\"sol\" scope=\"row\">3763</th><td class=\"temperature max\"><span class=\"fahrenheit\"><nobr>-4°F</nobr></span><span class=\"celsius\" style=\"display: none;\"><nobr>-20°C</nobr></span></td><td class=\"temperature min\"><span class=\"fahrenheit\"><nobr>-107°F</nobr></span><span class=\"celsius\" style=\"display: none;\"><nobr>-77°C</nobr></span></td><td class=\"pressure max\">838</td><td class=\"sun rise\">06:21</td><td class=\"sun set\">18:11</td></tr><tr><th class=\"sol\" scope=\"row\">March 7, 2023</th><th class=\"sol\" scope=\"row\">3762</th><td class=\"temperature max\"><span class=\"fahrenheit\"><nobr>-9°F</nobr></span><span class=\"celsius\" style=\"display: none;\"><nobr>-23°C</nobr></span></td><td class=\"temperature min\"><span class=\"fahrenheit\"><nobr>-108°F</nobr></span><span class=\"celsius\" style=\"display: none;\"><nobr>-78°C</nobr></span></td><td class=\"pressure max\">837</td><td class=\"sun rise\">06:21</td><td class=\"sun set\">18:12</td></tr><tr><th class=\"sol\" scope=\"row\">March 6, 2023</th><th class=\"sol\" scope=\"row\">3761</th><td class=\"temperature max\"><span class=\"fahrenheit\"><nobr>-11°F</nobr></span><span class=\"celsius\" style=\"display: none;\"><nobr>-24°C</nobr></span></td><td class=\"temperature min\"><span class=\"fahrenheit\"><nobr>-108°F</nobr></span><span class=\"celsius\" style=\"display: none;\"><nobr>-78°C</nobr></span></td><td class=\"pressure max\">837</td><td class=\"sun rise\">06:21</td><td class=\"sun set\">18:12</td></tr><tr><th class=\"sol\" scope=\"row\">March 5, 2023</th><th class=\"sol\" scope=\"row\">3760</th><td class=\"temperature max\"><span class=\"fahrenheit\"><nobr>-8°F</nobr></span><span class=\"celsius\" style=\"display: none;\"><nobr>-22°C</nobr></span></td><td class=\"temperature min\"><span class=\"fahrenheit\"><nobr>-108°F</nobr></span><span class=\"celsius\" style=\"display: none;\"><nobr>-78°C</nobr></span></td><td class=\"pressure max\">837</td><td class=\"sun rise\">06:22</td><td class=\"sun set\">18:13</td></tr><tr><th class=\"sol\" scope=\"row\">March 4, 2023</th><th class=\"sol\" scope=\"row\">3759</th><td class=\"temperature max\"><span class=\"fahrenheit\"><nobr>-4°F</nobr></span><span class=\"celsius\" style=\"display: none;\"><nobr>-20°C</nobr></span></td><td class=\"temperature min\"><span class=\"fahrenheit\"><nobr>-105°F</nobr></span><span class=\"celsius\" style=\"display: none;\"><nobr>-76°C</nobr></span></td><td class=\"pressure max\">837</td><td class=\"sun rise\">06:22</td><td class=\"sun set\">18:13</td></tr><tr><th class=\"sol\" scope=\"row\">March 3, 2023</th><th class=\"sol\" scope=\"row\">3758</th><td class=\"temperature max\"><span class=\"fahrenheit\"><nobr>-2°F</nobr></span><span class=\"celsius\" style=\"display: none;\"><nobr>-19°C</nobr></span></td><td class=\"temperature min\"><span class=\"fahrenheit\"><nobr>-107°F</nobr></span><span class=\"celsius\" style=\"display: none;\"><nobr>-77°C</nobr></span></td><td class=\"pressure max\">835</td><td class=\"sun rise\">06:22</td><td class=\"sun set\">18:14</td></tr><tr><th class=\"sol\" scope=\"row\">March 2, 2023</th><th class=\"sol\" scope=\"row\">3757</th><td class=\"temperature max\"><span class=\"fahrenheit\"><nobr>-2°F</nobr></span><span class=\"celsius\" style=\"display: none;\"><nobr>-19°C</nobr></span></td><td class=\"temperature min\"><span class=\"fahrenheit\"><nobr>-101°F</nobr></span><span class=\"celsius\" style=\"display: none;\"><nobr>-74°C</nobr></span></td><td class=\"pressure max\">830</td><td class=\"sun rise\">06:23</td><td class=\"sun set\">18:14</td></tr>\n",
      "</tbody>]\n"
     ]
    }
   ],
   "source": [
    "# Extract all the text elements\n",
    "weather_data = html_soup.find_all('tbody')\n",
    "print(weather_data)"
   ]
  },
  {
   "cell_type": "markdown",
   "metadata": {},
   "source": [
    "### Store Results in a Python List"
   ]
  },
  {
   "cell_type": "code",
   "execution_count": 52,
   "metadata": {},
   "outputs": [],
   "source": [
    "# Create an empty list to store the dictionaries\n",
    "mars_weather = []"
   ]
  },
  {
   "cell_type": "code",
   "execution_count": 49,
   "metadata": {},
   "outputs": [
    {
     "name": "stdout",
     "output_type": "stream",
     "text": [
      "[['\\n', 'March 8, 20233763-4°F-20°C-107°F-77°C83806:2118:11', 'March 7, 20233762-9°F-23°C-108°F-78°C83706:2118:12', 'March 6, 20233761-11°F-24°C-108°F-78°C83706:2118:12', 'March 5, 20233760-8°F-22°C-108°F-78°C83706:2218:13', 'March 4, 20233759-4°F-20°C-105°F-76°C83706:2218:13', 'March 3, 20233758-2°F-19°C-107°F-77°C83506:2218:14', 'March 2, 20233757-2°F-19°C-101°F-74°C83006:2318:14']]\n"
     ]
    }
   ],
   "source": [
    "for tr in weather_data:\n",
    "    #tr = td.find_all('tr')\n",
    "    #row = [th.text for th in tr]\n",
    "    templist =[]\n",
    "    for tr in td.find_all(\"tr\"):\n",
    "        templist.append((tr.text))\n",
    "    mars_weather.append(templist)\n",
    "\n",
    "print(mars_weather)"
   ]
  },
  {
   "cell_type": "code",
   "execution_count": 51,
   "metadata": {},
   "outputs": [
    {
     "data": {
      "text/plain": [
       "[['\\n',\n",
       "  'March 8, 20233763-4°F-20°C-107°F-77°C83806:2118:11',\n",
       "  'March 7, 20233762-9°F-23°C-108°F-78°C83706:2118:12',\n",
       "  'March 6, 20233761-11°F-24°C-108°F-78°C83706:2118:12',\n",
       "  'March 5, 20233760-8°F-22°C-108°F-78°C83706:2218:13',\n",
       "  'March 4, 20233759-4°F-20°C-105°F-76°C83706:2218:13',\n",
       "  'March 3, 20233758-2°F-19°C-107°F-77°C83506:2218:14',\n",
       "  'March 2, 20233757-2°F-19°C-101°F-74°C83006:2318:14'],\n",
       " {'date': 'March 8, 2023',\n",
       "  'sol': 'March 8, 2023',\n",
       "  'temp_max': '-4°F-20°C',\n",
       "  'temp_min': '-107°F-77°C',\n",
       "  'pressure': '838'},\n",
       " {'date': 'March 8, 2023',\n",
       "  'sol': 'March 8, 2023',\n",
       "  'temp_max': '-4°F-20°C',\n",
       "  'temp_min': '-107°F-77°C',\n",
       "  'pressure': '838'},\n",
       " {'date': 'March 8, 2023',\n",
       "  'sol': 'March 8, 2023',\n",
       "  'temp_max': '-4°F-20°C',\n",
       "  'temp_min': '-107°F-77°C',\n",
       "  'pressure': '838'},\n",
       " {'date': 'March 8, 2023',\n",
       "  'sol': 'March 8, 2023',\n",
       "  'temp_max': '-4°F-20°C',\n",
       "  'temp_min': '-107°F-77°C',\n",
       "  'pressure': '838'},\n",
       " {'date': 'March 8, 2023',\n",
       "  'sol': 'March 8, 2023',\n",
       "  'temp_max': '-4°F-20°C',\n",
       "  'temp_min': '-107°F-77°C',\n",
       "  'pressure': '838'},\n",
       " {'date': 'March 8, 2023',\n",
       "  'sol': 'March 8, 2023',\n",
       "  'temp_max': '-4°F-20°C',\n",
       "  'temp_min': '-107°F-77°C',\n",
       "  'pressure': '838'},\n",
       " {'date': 'March 8, 2023',\n",
       "  'sol': 'March 8, 2023',\n",
       "  'temp_max': '-4°F-20°C',\n",
       "  'temp_min': '-107°F-77°C',\n",
       "  'pressure': '838'},\n",
       " {'date': 'March 8, 2023',\n",
       "  'sol': 'March 8, 2023',\n",
       "  'temp_max': '-4°F-20°C',\n",
       "  'temp_min': '-107°F-77°C',\n",
       "  'pressure': '838'}]"
      ]
     },
     "execution_count": 51,
     "metadata": {},
     "output_type": "execute_result"
    }
   ],
   "source": [
    "# Loop through the text elements\n",
    "# Extract the weather text from the elements\n",
    "# Store each item in a dictionary\n",
    "# Add the dictionary to the list\n",
    "for tr in weather_data:\n",
    "    \n",
    "    for tr in td.find_all(\"tr\"):\n",
    "    \n",
    "        date=row.find('th', class_='sol').get_text()\n",
    "        date2=row.find('th', class_='sol').get_text()\n",
    "        temp_max=row.find('td', class_='temperature max').get_text()\n",
    "        temp_min=row.find('td', class_='temperature min').get_text()\n",
    "        press=row.find('td', class_='pressure max').get_text()\n",
    "\n",
    "        summary_dict = {\n",
    "            \"date\":date,\n",
    "            \"sol\":date2,\n",
    "            \"temp_max\":temp_max,\n",
    "            \"temp_min\":temp_min,\n",
    "            \"pressure\":press\n",
    "\n",
    "        }\n",
    "\n",
    "        mars_weather.append(summary_dict)\n",
    "    \n",
    "mars_weather"
   ]
  },
  {
   "cell_type": "code",
   "execution_count": 53,
   "metadata": {},
   "outputs": [],
   "source": [
    "# Close browser\n",
    "browser.quit()"
   ]
  },
  {
   "cell_type": "markdown",
   "metadata": {},
   "source": [
    "## Build DataFrame\n",
    "\n",
    "Column names:\n",
    "* `terrestrial_date`: the date on Earth\n",
    "* `sol`: the number of elapsed sols (Martian days) since Curiosity landed on Mars\n",
    "* `max_temp`: the minimum temperature, in Celsius, of a single Martian day (sol)\n",
    "* `min_temp`: the minimum temperature, in Celsius, of a single Martian day (sol)\n",
    "* `pressure`: the atmospheric pressure at Curiosity's location\n",
    "* `sunrise`: time of sunrise on Mars, relative to Curiosity's location\n",
    "* `sunset`: time of sunset on Mars, relative to Curiosity's location"
   ]
  },
  {
   "cell_type": "code",
   "execution_count": null,
   "metadata": {},
   "outputs": [],
   "source": [
    "# Create a Pandas DataFrame by using the list of rows and a list of the column names\n",
    "mars_df = pd.DataFrame(mars_weather, columns=[\"terrestrial_date\",\"sol\",\"max_temp\",\"min_temp\",\"pressure\",\"sunrise\",\"sunset\"])\n",
    "\n",
    "mars_df"
   ]
  },
  {
   "cell_type": "code",
   "execution_count": null,
   "metadata": {},
   "outputs": [],
   "source": [
    "# Change data types for data analysis\n",
    "    # Change terrestrial_date to datetime\n",
    "mars_df['terrestrial_date'] = pd.to_datetime(mars_df['terrestrial_date'], yearfirst=True, format=\"%Y/%m/%d\")\n",
    "mars_df.head()"
   ]
  },
  {
   "cell_type": "code",
   "execution_count": null,
   "metadata": {},
   "outputs": [],
   "source": [
    "    # Change sol, ls, month to int\n",
    "    # Change min_temp, pressure to float\n",
    "\n",
    "mars_df = mars_df.astype({'sol':'int64', 'ls':'int64', 'month':'int64', 'min_temp':'float', 'pressure':'float'})"
   ]
  },
  {
   "cell_type": "code",
   "execution_count": null,
   "metadata": {},
   "outputs": [],
   "source": [
    "# Write the data to a CSV\n",
    "mars_df.to_csv('mars_weather_data.csv')"
   ]
  }
 ],
 "metadata": {
  "kernelspec": {
   "display_name": "Python 3 (ipykernel)",
   "language": "python",
   "name": "python3"
  },
  "language_info": {
   "codemirror_mode": {
    "name": "ipython",
    "version": 3
   },
   "file_extension": ".py",
   "mimetype": "text/x-python",
   "name": "python",
   "nbconvert_exporter": "python",
   "pygments_lexer": "ipython3",
   "version": "3.7.7"
  }
 },
 "nbformat": 4,
 "nbformat_minor": 4
}
